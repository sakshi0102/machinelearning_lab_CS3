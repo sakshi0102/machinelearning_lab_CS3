{
  "nbformat": 4,
  "nbformat_minor": 0,
  "metadata": {
    "colab": {
      "name": "Expression_and_operators.ipynb",
      "provenance": [],
      "include_colab_link": true
    },
    "kernelspec": {
      "name": "python3",
      "display_name": "Python 3"
    }
  },
  "cells": [
    {
      "cell_type": "markdown",
      "metadata": {
        "id": "view-in-github",
        "colab_type": "text"
      },
      "source": [
        "<a href=\"https://colab.research.google.com/github/sakshi0102/machinelearning_lab_CS3/blob/master/Expression_and_operators.ipynb\" target=\"_parent\"><img src=\"https://colab.research.google.com/assets/colab-badge.svg\" alt=\"Open In Colab\"/></a>"
      ]
    },
    {
      "cell_type": "code",
      "metadata": {
        "id": "K8nf3hO8UiT-",
        "colab_type": "code",
        "outputId": "b6885427-8551-4acd-8017-211d032bc2a2",
        "colab": {
          "base_uri": "https://localhost:8080/",
          "height": 67
        }
      },
      "source": [
        "n=9\n",
        "print(n,'binary',format(n,'b'))\n",
        "print(n,'* 2=',n<<1, format(n<<1,'b'))\n",
        "print(n,'/ 2=',n>>1,format(n>>1,'b'))"
      ],
      "execution_count": 1,
      "outputs": [
        {
          "output_type": "stream",
          "text": [
            "9 binary 1001\n",
            "9 * 2= 18 10010\n",
            "9 / 2= 4 100\n"
          ],
          "name": "stdout"
        }
      ]
    },
    {
      "cell_type": "code",
      "metadata": {
        "id": "zW1vztixUunX",
        "colab_type": "code",
        "outputId": "4b07ffc9-0752-4109-a50e-a75fb4548b30",
        "colab": {
          "base_uri": "https://localhost:8080/",
          "height": 67
        }
      },
      "source": [
        "# logical\n",
        "x = True\n",
        "y = False\n",
        "print('x and y is',x and y) # Output: x and y is False\n",
        "print('x or y is',x or y) # Output: x or y is True\n",
        "print('not x is',not x) # Output: not x is False"
      ],
      "execution_count": 2,
      "outputs": [
        {
          "output_type": "stream",
          "text": [
            "x and y is False\n",
            "x or y is True\n",
            "not x is False\n"
          ],
          "name": "stdout"
        }
      ]
    },
    {
      "cell_type": "code",
      "metadata": {
        "id": "k63_GTwhUyfM",
        "colab_type": "code",
        "outputId": "5bb28eac-4668-4384-dbdb-4a602f90c262",
        "colab": {
          "base_uri": "https://localhost:8080/",
          "height": 67
        }
      },
      "source": [
        "# bitwise\n",
        "x=12 \n",
        "y=4\n",
        "print(x & y) \n",
        "print(x | y)\n",
        "print(x ^ y)"
      ],
      "execution_count": 3,
      "outputs": [
        {
          "output_type": "stream",
          "text": [
            "4\n",
            "12\n",
            "8\n"
          ],
          "name": "stdout"
        }
      ]
    },
    {
      "cell_type": "code",
      "metadata": {
        "id": "NUXlxmSZU6g6",
        "colab_type": "code",
        "outputId": "c3a671ea-7163-4f3b-bce0-fa8d7c8c3832",
        "colab": {
          "base_uri": "https://localhost:8080/",
          "height": 50
        }
      },
      "source": [
        "# in and not in\n",
        "\n",
        "x = 'Hello world'\n",
        "print('H' in x)    # Output: True\n",
        "print('h' not in x)   # Output: True"
      ],
      "execution_count": 4,
      "outputs": [
        {
          "output_type": "stream",
          "text": [
            "True\n",
            "True\n"
          ],
          "name": "stdout"
        }
      ]
    },
    {
      "cell_type": "code",
      "metadata": {
        "id": "M43s3u2rVAwU",
        "colab_type": "code",
        "outputId": "33a6bdd9-79a4-48ae-d2bf-acc557c898da",
        "colab": {
          "base_uri": "https://localhost:8080/",
          "height": 84
        }
      },
      "source": [
        "# perform operations on complex numbers\n",
        "\n",
        "import cmath\n",
        "a=complex(20+5j)\n",
        "b=complex(5+3j)\n",
        "print('a+b',a+b)\n",
        "print('a-b',a-b)\n",
        "print('a*b',a*b)\n",
        "print('a/b',a/b)"
      ],
      "execution_count": 5,
      "outputs": [
        {
          "output_type": "stream",
          "text": [
            "a+b (25+8j)\n",
            "a-b (15+2j)\n",
            "a*b (85+85j)\n",
            "a/b (3.3823529411764706-1.0294117647058825j)\n"
          ],
          "name": "stdout"
        }
      ]
    },
    {
      "cell_type": "code",
      "metadata": {
        "id": "dhOyJjseVGb-",
        "colab_type": "code",
        "outputId": "57cb9281-f878-4f7a-e424-876f3de802f0",
        "colab": {
          "base_uri": "https://localhost:8080/",
          "height": 84
        }
      },
      "source": [
        "# write your code after this line\n",
        "import math\n",
        "length=int(input(\"Enter lenght of triangle\"))\n",
        "breadth=int(input(\"Enter Breadth of triangle\"))\n",
        "height=int(input(\"Enter height of triangle\"))\n",
        "s=(length+breadth+height)/2\n",
        "area=(s*(s-height)*(s-length)*(s-breadth))\n",
        "n=abs(area)\n",
        "areaf=math.sqrt(n)\n",
        "print(areaf)"
      ],
      "execution_count": 7,
      "outputs": [
        {
          "output_type": "stream",
          "text": [
            "Enter lenght of triangle1\n",
            "Enter Breadth of triangle2\n",
            "Enter height of triangle5\n",
            "4.898979485566356\n"
          ],
          "name": "stdout"
        }
      ]
    },
    {
      "cell_type": "code",
      "metadata": {
        "id": "tkB2kM0gVUNW",
        "colab_type": "code",
        "outputId": "2e901a51-865b-42cd-ab99-f825d387634d",
        "colab": {
          "base_uri": "https://localhost:8080/",
          "height": 50
        }
      },
      "source": [
        "# write your code after this line\n",
        "ch=input(\"Enter a letter \")\n",
        "if(ch == 'a' or ch == 'e' or ch == 'i' or ch == 'o' or ch == 'u' or ch == 'A'\n",
        "       or ch == 'E' or ch == 'I' or ch == 'O' or ch == 'U'):\n",
        "  print(\"Character entered is Vowel \")\n",
        "else:\n",
        "  print(\"Character is consonant \")"
      ],
      "execution_count": 8,
      "outputs": [
        {
          "output_type": "stream",
          "text": [
            "Enter a letter A\n",
            "Character entered is Vowel \n"
          ],
          "name": "stdout"
        }
      ]
    },
    {
      "cell_type": "code",
      "metadata": {
        "id": "7CpkJ6D_Vbii",
        "colab_type": "code",
        "outputId": "ab5fbb5f-7938-40a1-8a01-0ce592772ea1",
        "colab": {
          "base_uri": "https://localhost:8080/",
          "height": 34
        }
      },
      "source": [
        "# write your code after this line\n",
        "ch=input(\"Enter a digit(ASCII) or character\") \n",
        "if (ch>='48' and ch<='58'):\n",
        "  print(\"Its a digit\")\n",
        "if(ch>='97' and ch<='122'):\n",
        "  print(\"Character is lowercase\")\n",
        "if(ch>='65' and ch<='90'):\n",
        "  print(\"Character is uppercase\")"
      ],
      "execution_count": 12,
      "outputs": [
        {
          "output_type": "stream",
          "text": [
            "Enter a digit(ASCII) or characterA\n"
          ],
          "name": "stdout"
        }
      ]
    },
    {
      "cell_type": "code",
      "metadata": {
        "id": "0DdcPWr6VllS",
        "colab_type": "code",
        "outputId": "c97c0904-3cd0-45e4-aca7-189cef3d1ed2",
        "colab": {
          "base_uri": "https://localhost:8080/",
          "height": 202
        }
      },
      "source": [
        "# write your code after this line\n",
        "n = int(input(\"Enter any number : \"))\n",
        "for i in range(1, 11):\n",
        "  print(n,\" x \", i, \" = \", n*i)"
      ],
      "execution_count": 13,
      "outputs": [
        {
          "output_type": "stream",
          "text": [
            "Enter any number : 7\n",
            "7  x  1  =  7\n",
            "7  x  2  =  14\n",
            "7  x  3  =  21\n",
            "7  x  4  =  28\n",
            "7  x  5  =  35\n",
            "7  x  6  =  42\n",
            "7  x  7  =  49\n",
            "7  x  8  =  56\n",
            "7  x  9  =  63\n",
            "7  x  10  =  70\n"
          ],
          "name": "stdout"
        }
      ]
    },
    {
      "cell_type": "code",
      "metadata": {
        "id": "HirFoHCVVx7L",
        "colab_type": "code",
        "outputId": "dab6beb1-ae52-4c92-d809-d7e08703303b",
        "colab": {
          "base_uri": "https://localhost:8080/",
          "height": 50
        }
      },
      "source": [
        "import math\n",
        "Sum = 0\n",
        "n = int(input(\"Enter any number : \"))\n",
        "for i in range(1, n+1):\n",
        "  Fact = math.factorial(i)\n",
        "  Sum += Fact\n",
        "\n",
        "print(\"Sum of series is: \", Sum)"
      ],
      "execution_count": 15,
      "outputs": [
        {
          "output_type": "stream",
          "text": [
            "Enter any number : 5\n",
            "Sum of series is:  153\n"
          ],
          "name": "stdout"
        }
      ]
    },
    {
      "cell_type": "code",
      "metadata": {
        "id": "sBNvl30NWCOD",
        "colab_type": "code",
        "outputId": "eabc97f6-3531-4cec-bf46-8047a4480248",
        "colab": {
          "base_uri": "https://localhost:8080/",
          "height": 50
        }
      },
      "source": [
        "# write your code after this line\n",
        "n, fact = int(input(\"Enter the number : \")), 1\n",
        "for i in range(1,n+1):\n",
        "  fact *= i\n",
        "print(\"Factorial        :\",fact)"
      ],
      "execution_count": 16,
      "outputs": [
        {
          "output_type": "stream",
          "text": [
            "Enter the number : 6\n",
            "Factorial        : 720\n"
          ],
          "name": "stdout"
        }
      ]
    },
    {
      "cell_type": "code",
      "metadata": {
        "id": "KS37BD7IWLgB",
        "colab_type": "code",
        "outputId": "c865ea76-c5e8-4fc6-aea2-ea4cecc9f8cd",
        "colab": {
          "base_uri": "https://localhost:8080/",
          "height": 50
        }
      },
      "source": [
        "# write your code after this line\n",
        "L = list(map(int, input().split()))\n",
        "n = len(L)\n",
        "i = 0\n",
        "Max = L[0]\n",
        "while(i<n):\n",
        "  if (L[i]>=Max):\n",
        "    Max = L[i]  \n",
        "  \n",
        "  i += 1\n",
        "\n",
        "print(\"Maximum is: \", Max)"
      ],
      "execution_count": 17,
      "outputs": [
        {
          "output_type": "stream",
          "text": [
            "45\n",
            "Maximum is:  45\n"
          ],
          "name": "stdout"
        }
      ]
    },
    {
      "cell_type": "code",
      "metadata": {
        "id": "YTYHmC7XWam2",
        "colab_type": "code",
        "outputId": "ad34590e-6985-40ff-d368-5e488e9052bd",
        "colab": {
          "base_uri": "https://localhost:8080/",
          "height": 50
        }
      },
      "source": [
        "\n",
        "# factorial\n",
        "n=int(input('Enter a number '))\n",
        "fact=1\n",
        "for i in range(n,1,-1):\n",
        "    fact=fact*i\n",
        "print(n,'! =',fact)"
      ],
      "execution_count": 18,
      "outputs": [
        {
          "output_type": "stream",
          "text": [
            "Enter a number 8\n",
            "8 ! = 40320\n"
          ],
          "name": "stdout"
        }
      ]
    },
    {
      "cell_type": "code",
      "metadata": {
        "id": "jG5HlyKPWpUj",
        "colab_type": "code",
        "outputId": "09a9e6d9-3b7a-4319-d48a-c40659824968",
        "colab": {
          "base_uri": "https://localhost:8080/",
          "height": 151
        }
      },
      "source": [
        "# write your code after this line\n",
        "for i in range(0, 10):\n",
        "  if i == 3 or i == 6:\n",
        "    continue\n",
        "  else:\n",
        "    print(i)"
      ],
      "execution_count": 20,
      "outputs": [
        {
          "output_type": "stream",
          "text": [
            "0\n",
            "1\n",
            "2\n",
            "4\n",
            "5\n",
            "7\n",
            "8\n",
            "9\n"
          ],
          "name": "stdout"
        }
      ]
    },
    {
      "cell_type": "code",
      "metadata": {
        "id": "U-tCDYeFWscc",
        "colab_type": "code",
        "outputId": "7e04931e-70bc-4eb8-d056-f98c2b13f4ff",
        "colab": {
          "base_uri": "https://localhost:8080/",
          "height": 187
        }
      },
      "source": [
        "a, b, c = 0, 0, 0\n",
        "for i in range(1, 11):\n",
        "  N = int(input(\"Enter a number: \"))\n",
        "\n",
        "  if N > 0:\n",
        "    a += 1\n",
        "  elif N == 0:\n",
        "    b += 1\n",
        "  elif N < 0:\n",
        "    c += 1\n",
        "\n",
        "print(a, b, c)"
      ],
      "execution_count": 0,
      "outputs": [
        {
          "output_type": "stream",
          "text": [
            "Enter a number: 5\n",
            "Enter a number: 2\n",
            "Enter a number: 3\n",
            "Enter a number: 5\n",
            "Enter a number: 1\n",
            "Enter a number: 0\n",
            "Enter a number: 5\n",
            "Enter a number: 5\n",
            "Enter a number: 5\n"
          ],
          "name": "stdout"
        }
      ]
    }
  ]
}
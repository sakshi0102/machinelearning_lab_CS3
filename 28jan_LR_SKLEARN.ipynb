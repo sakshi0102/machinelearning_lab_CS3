{
  "nbformat": 4,
  "nbformat_minor": 0,
  "metadata": {
    "kernelspec": {
      "display_name": "Python 3",
      "language": "python",
      "name": "python3"
    },
    "language_info": {
      "codemirror_mode": {
        "name": "ipython",
        "version": 3
      },
      "file_extension": ".py",
      "mimetype": "text/x-python",
      "name": "python",
      "nbconvert_exporter": "python",
      "pygments_lexer": "ipython3",
      "version": "3.7.3"
    },
    "colab": {
      "name": "28jan LR_SKLEARN.ipynb",
      "provenance": [],
      "collapsed_sections": [],
      "include_colab_link": true
    }
  },
  "cells": [
    {
      "cell_type": "markdown",
      "metadata": {
        "id": "view-in-github",
        "colab_type": "text"
      },
      "source": [
        "<a href=\"https://colab.research.google.com/github/sakshi0102/machinelearning_lab_CS3/blob/master/28jan_LR_SKLEARN.ipynb\" target=\"_parent\"><img src=\"https://colab.research.google.com/assets/colab-badge.svg\" alt=\"Open In Colab\"/></a>"
      ]
    },
    {
      "cell_type": "code",
      "metadata": {
        "id": "Ayzj2PTp9pcc",
        "colab_type": "code",
        "colab": {}
      },
      "source": [
        "import pandas as pd\n",
        "import numpy as np\n",
        "import matplotlib.pyplot as plt"
      ],
      "execution_count": 0,
      "outputs": []
    },
    {
      "cell_type": "markdown",
      "metadata": {
        "id": "ouTG8Tvb9pck",
        "colab_type": "text"
      },
      "source": [
        "PREPARING THE DATASET"
      ]
    },
    {
      "cell_type": "code",
      "metadata": {
        "id": "j76ojSvH9pcm",
        "colab_type": "code",
        "outputId": "9dc4a145-b04f-4fc9-cc34-c1472139a3da",
        "colab": {
          "base_uri": "https://localhost:8080/",
          "height": 370
        }
      },
      "source": [
        "# intialise data of lists. \n",
        "data = {'passenger':[892,893,894,895,896,897,898,899,900,901,902,903,904,905,905,906,907,908,909,910], \n",
        "        'Scores':[0,1,0,0,1,0,1,0,1,0,0,0,1,0,1,1,0,0,1,0]} \n",
        "  \n",
        "# Create DataFrame \n",
        "passenger = pd.DataFrame(data) \n",
        "  \n",
        "# Print the output. \n",
        "print(passenger)"
      ],
      "execution_count": 2,
      "outputs": [
        {
          "output_type": "stream",
          "text": [
            "    passenger  Scores\n",
            "0         892       0\n",
            "1         893       1\n",
            "2         894       0\n",
            "3         895       0\n",
            "4         896       1\n",
            "5         897       0\n",
            "6         898       1\n",
            "7         899       0\n",
            "8         900       1\n",
            "9         901       0\n",
            "10        902       0\n",
            "11        903       0\n",
            "12        904       1\n",
            "13        905       0\n",
            "14        905       1\n",
            "15        906       1\n",
            "16        907       0\n",
            "17        908       0\n",
            "18        909       1\n",
            "19        910       0\n"
          ],
          "name": "stdout"
        }
      ]
    },
    {
      "cell_type": "markdown",
      "metadata": {
        "id": "Xc2RcBQF9pcs",
        "colab_type": "text"
      },
      "source": [
        "SEPARATING THE DEPENDENT AND INDEPENDENT VARIABLES"
      ]
    },
    {
      "cell_type": "code",
      "metadata": {
        "id": "VrEJjZbh9pct",
        "colab_type": "code",
        "outputId": "a202b5a5-936a-4ea9-dc76-4941b6079665",
        "colab": {
          "base_uri": "https://localhost:8080/",
          "height": 370
        }
      },
      "source": [
        "X = passenger.iloc[ : ,   : 1 ].values\n",
        "Y = passenger.iloc[ : , 1].values\n",
        "print(X)\n",
        "print(Y)"
      ],
      "execution_count": 3,
      "outputs": [
        {
          "output_type": "stream",
          "text": [
            "[[892]\n",
            " [893]\n",
            " [894]\n",
            " [895]\n",
            " [896]\n",
            " [897]\n",
            " [898]\n",
            " [899]\n",
            " [900]\n",
            " [901]\n",
            " [902]\n",
            " [903]\n",
            " [904]\n",
            " [905]\n",
            " [905]\n",
            " [906]\n",
            " [907]\n",
            " [908]\n",
            " [909]\n",
            " [910]]\n",
            "[0 1 0 0 1 0 1 0 1 0 0 0 1 0 1 1 0 0 1 0]\n"
          ],
          "name": "stdout"
        }
      ]
    },
    {
      "cell_type": "markdown",
      "metadata": {
        "id": "QXs6YOrO9pcx",
        "colab_type": "text"
      },
      "source": [
        "SPLITTING THE DATASET INTO TRAIN AND TEST SETS"
      ]
    },
    {
      "cell_type": "code",
      "metadata": {
        "id": "OFUfUbl79pcy",
        "colab_type": "code",
        "colab": {}
      },
      "source": [
        "from sklearn.model_selection import train_test_split\n",
        "X_train, X_test, Y_train, Y_test = train_test_split( X, Y, test_size = 1/3, random_state = 0)"
      ],
      "execution_count": 0,
      "outputs": []
    },
    {
      "cell_type": "code",
      "metadata": {
        "id": "tMqmVv_TTDPv",
        "colab_type": "code",
        "colab": {
          "base_uri": "https://localhost:8080/",
          "height": 134
        },
        "outputId": "081e1b12-bac1-4c51-93b2-787d343f140a"
      },
      "source": [
        "X_test"
      ],
      "execution_count": 5,
      "outputs": [
        {
          "output_type": "execute_result",
          "data": {
            "text/plain": [
              "array([[909],\n",
              "       [893],\n",
              "       [910],\n",
              "       [900],\n",
              "       [902],\n",
              "       [908],\n",
              "       [898]])"
            ]
          },
          "metadata": {
            "tags": []
          },
          "execution_count": 5
        }
      ]
    },
    {
      "cell_type": "code",
      "metadata": {
        "id": "be_bAhJCS5-J",
        "colab_type": "code",
        "colab": {}
      },
      "source": [
        "X_train"
      ],
      "execution_count": 0,
      "outputs": []
    },
    {
      "cell_type": "code",
      "metadata": {
        "id": "GKvwpohQS2Ss",
        "colab_type": "code",
        "colab": {}
      },
      "source": [
        ""
      ],
      "execution_count": 0,
      "outputs": []
    },
    {
      "cell_type": "code",
      "metadata": {
        "id": "CPAYYivU9pc2",
        "colab_type": "code",
        "colab": {}
      },
      "source": [
        "from sklearn.linear_model import LinearRegression\n",
        "regressor = LinearRegression()\n",
        "regressor = regressor.fit(X_train, Y_train)"
      ],
      "execution_count": 0,
      "outputs": []
    },
    {
      "cell_type": "code",
      "metadata": {
        "id": "WYcEcbB59pc6",
        "colab_type": "code",
        "colab": {}
      },
      "source": [
        "Y_pred = regressor.predict(X_test)"
      ],
      "execution_count": 0,
      "outputs": []
    },
    {
      "cell_type": "code",
      "metadata": {
        "id": "UBfIy9J69pc9",
        "colab_type": "code",
        "outputId": "7dc79f2d-6f4c-4c4a-c0e8-4091bcbee5b3",
        "colab": {
          "base_uri": "https://localhost:8080/",
          "height": 282
        }
      },
      "source": [
        "plt.scatter(X_train , Y_train, color = 'green')\n",
        "plt.plot(X_train , regressor.predict(X_train), color ='red')"
      ],
      "execution_count": 0,
      "outputs": [
        {
          "output_type": "execute_result",
          "data": {
            "text/plain": [
              "[<matplotlib.lines.Line2D at 0x7fb80e41e4e0>]"
            ]
          },
          "metadata": {
            "tags": []
          },
          "execution_count": 24
        },
        {
          "output_type": "display_data",
          "data": {
            "image/png": "[encoded data removed]",
            "text/plain": [
              "<Figure size 432x288 with 1 Axes>"
            ]
          },
          "metadata": {
            "tags": []
          }
        }
      ]
    },
    {
      "cell_type": "code",
      "metadata": {
        "id": "vg964kWJ9pdB",
        "colab_type": "code",
        "outputId": "87fdd302-0642-4f4a-9b3d-5fcbf0e0410a",
        "colab": {
          "base_uri": "https://localhost:8080/",
          "height": 282
        }
      },
      "source": [
        "plt.scatter(X_test , Y_test, color = 'red')\n",
        "plt.plot(X_test , regressor.predict(X_test), color ='blue')"
      ],
      "execution_count": 8,
      "outputs": [
        {
          "output_type": "execute_result",
          "data": {
            "text/plain": [
              "[<matplotlib.lines.Line2D at 0x7fb0cd55f860>]"
            ]
          },
          "metadata": {
            "tags": []
          },
          "execution_count": 8
        },
        {
          "output_type": "display_data",
          "data": {
            "image/png": "[encoded data removed]",
            "text/plain": [
              "<Figure size 432x288 with 1 Axes>"
            ]
          },
          "metadata": {
            "tags": []
          }
        }
      ]
    },
    {
      "cell_type": "code",
      "metadata": {
        "id": "jx6qnMDp9pdF",
        "colab_type": "code",
        "outputId": "c256ab77-cf5c-4450-a6a8-3a09faaae978",
        "colab": {
          "base_uri": "https://localhost:8080/",
          "height": 50
        }
      },
      "source": [
        "from sklearn.metrics import mean_squared_error, r2_score\n",
        "import math\n",
        "print(mean_squared_error(Y_test, Y_pred))\n",
        "print(r2_score(Y_test, Y_pred))"
      ],
      "execution_count": 9,
      "outputs": [
        {
          "output_type": "stream",
          "text": [
            "0.41581803954794455\n",
            "-0.6979236614874402\n"
          ],
          "name": "stdout"
        }
      ]
    },
    {
      "cell_type": "code",
      "metadata": {
        "id": "mIOTQDmx9pdJ",
        "colab_type": "code",
        "colab": {}
      },
      "source": [
        ""
      ],
      "execution_count": 0,
      "outputs": []
    }
  ]
}
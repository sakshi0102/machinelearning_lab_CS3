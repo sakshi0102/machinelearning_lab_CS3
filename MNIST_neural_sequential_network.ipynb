{
  "nbformat": 4,
  "nbformat_minor": 0,
  "metadata": {
    "kernelspec": {
      "display_name": "Python [conda env:dl-gpu]",
      "language": "python",
      "name": "conda-env-dl-gpu-py"
    },
    "language_info": {
      "codemirror_mode": {
        "name": "ipython",
        "version": 3
      },
      "file_extension": ".py",
      "mimetype": "text/x-python",
      "name": "python",
      "nbconvert_exporter": "python",
      "pygments_lexer": "ipython3",
      "version": "3.6.3"
    },
    "toc": {
      "nav_menu": {},
      "number_sections": true,
      "sideBar": true,
      "skip_h1_title": false,
      "toc_cell": true,
      "toc_position": {},
      "toc_section_display": "block",
      "toc_window_display": false
    },
    "colab": {
      "name": " MNIST-neural-sequential-network.ipynb",
      "provenance": [],
      "collapsed_sections": [],
      "include_colab_link": true
    }
  },
  "cells": [
    {
      "cell_type": "markdown",
      "metadata": {
        "id": "view-in-github",
        "colab_type": "text"
      },
      "source": [
        "<a href=\"https://colab.research.google.com/github/sakshi0102/machinelearning_lab_CS3/blob/master/MNIST_neural_sequential_network.ipynb\" target=\"_parent\"><img src=\"https://colab.research.google.com/assets/colab-badge.svg\" alt=\"Open In Colab\"/></a>"
      ]
    },
    {
      "cell_type": "markdown",
      "metadata": {
        "toc": true,
        "id": "zQvT7bhRzp4e",
        "colab_type": "text"
      },
      "source": [
        "<h1>Table of Contents<span class=\"tocSkip\"></span></h1>\n",
        "<div class=\"toc\" style=\"margin-top: 1em;\"><ul class=\"toc-item\"><li><span><a href=\"#Loading-the-MNIST-dataset-in-Keras\" data-toc-modified-id=\"Loading-the-MNIST-dataset-in-Keras-1\"><span class=\"toc-item-num\">1&nbsp;&nbsp;</span>Loading the MNIST dataset in Keras</a></span></li><li><span><a href=\"#The-network-architecture\" data-toc-modified-id=\"The-network-architecture-2\"><span class=\"toc-item-num\">2&nbsp;&nbsp;</span>The network architecture</a></span></li><li><span><a href=\"#The-compilation-step\" data-toc-modified-id=\"The-compilation-step-3\"><span class=\"toc-item-num\">3&nbsp;&nbsp;</span>The compilation step</a></span></li><li><span><a href=\"#Preparing-the-image-data\" data-toc-modified-id=\"Preparing-the-image-data-4\"><span class=\"toc-item-num\">4&nbsp;&nbsp;</span>Preparing the image data</a></span></li><li><span><a href=\"#Preparing-the-labels\" data-toc-modified-id=\"Preparing-the-labels-5\"><span class=\"toc-item-num\">5&nbsp;&nbsp;</span>Preparing the labels</a></span></li><li><span><a href=\"#Training-and-Testing\" data-toc-modified-id=\"Training-and-Testing-6\"><span class=\"toc-item-num\">6&nbsp;&nbsp;</span>Training and Testing</a></span></li></ul></div>"
      ]
    },
    {
      "cell_type": "markdown",
      "metadata": {
        "id": "GSee4zKUzp4i",
        "colab_type": "text"
      },
      "source": [
        "# Loading the MNIST dataset in Keras"
      ]
    },
    {
      "cell_type": "code",
      "metadata": {
        "id": "6a8IveFHzp4l",
        "colab_type": "code",
        "outputId": "9bdee031-166a-4340-f6eb-e7789eb0f45f",
        "colab": {
          "base_uri": "https://localhost:8080/",
          "height": 80
        }
      },
      "source": [
        "from keras.datasets import mnist"
      ],
      "execution_count": 1,
      "outputs": [
        {
          "output_type": "stream",
          "text": [
            "Using TensorFlow backend.\n"
          ],
          "name": "stderr"
        },
        {
          "output_type": "display_data",
          "data": {
            "text/html": [
              "<p style=\"color: red;\">\n",
              "The default version of TensorFlow in Colab will soon switch to TensorFlow 2.x.<br>\n",
              "We recommend you <a href=\"https://www.tensorflow.org/guide/migrate\" target=\"_blank\">upgrade</a> now \n",
              "or ensure your notebook will continue to use TensorFlow 1.x via the <code>%tensorflow_version 1.x</code> magic:\n",
              "<a href=\"https://colab.research.google.com/notebooks/tensorflow_version.ipynb\" target=\"_blank\">more info</a>.</p>\n"
            ],
            "text/plain": [
              "<IPython.core.display.HTML object>"
            ]
          },
          "metadata": {
            "tags": []
          }
        }
      ]
    },
    {
      "cell_type": "code",
      "metadata": {
        "id": "LQPmnZ8xzp4v",
        "colab_type": "code",
        "outputId": "00f26f65-b568-4716-fae2-2332ec9c2325",
        "colab": {
          "base_uri": "https://localhost:8080/",
          "height": 51
        }
      },
      "source": [
        "(train_images, train_labels), (test_images, test_labels) = mnist.load_data()"
      ],
      "execution_count": 3,
      "outputs": [
        {
          "output_type": "stream",
          "text": [
            "Downloading data from https://s3.amazonaws.com/img-datasets/mnist.npz\n",
            "11493376/11490434 [==============================] - 1s 0us/step\n"
          ],
          "name": "stdout"
        }
      ]
    },
    {
      "cell_type": "markdown",
      "metadata": {
        "id": "mnZfS9HYzp4z",
        "colab_type": "text"
      },
      "source": [
        "- The images are encoded as Numpy arrays, and the labels are an array of digits, ranging from 0 to 9."
      ]
    },
    {
      "cell_type": "code",
      "metadata": {
        "id": "VFdoffSmzp41",
        "colab_type": "code",
        "outputId": "abd30eb7-1b5d-4c48-841e-6d286986dc38",
        "colab": {
          "base_uri": "https://localhost:8080/",
          "height": 34
        }
      },
      "source": [
        "train_images.shape\n"
      ],
      "execution_count": 4,
      "outputs": [
        {
          "output_type": "execute_result",
          "data": {
            "text/plain": [
              "(60000, 28, 28)"
            ]
          },
          "metadata": {
            "tags": []
          },
          "execution_count": 4
        }
      ]
    },
    {
      "cell_type": "code",
      "metadata": {
        "id": "tD65nC-vzp45",
        "colab_type": "code",
        "outputId": "f728c955-561b-4ad0-ebb4-090fe5c25e02",
        "colab": {
          "base_uri": "https://localhost:8080/",
          "height": 34
        }
      },
      "source": [
        "len(train_labels)"
      ],
      "execution_count": 5,
      "outputs": [
        {
          "output_type": "execute_result",
          "data": {
            "text/plain": [
              "60000"
            ]
          },
          "metadata": {
            "tags": []
          },
          "execution_count": 5
        }
      ]
    },
    {
      "cell_type": "code",
      "metadata": {
        "id": "IX9LpWNazp4_",
        "colab_type": "code",
        "colab": {
          "base_uri": "https://localhost:8080/",
          "height": 34
        },
        "outputId": "5bce324e-85cc-4bbb-be8c-d2b130ce409e"
      },
      "source": [
        "train_labels"
      ],
      "execution_count": 6,
      "outputs": [
        {
          "output_type": "execute_result",
          "data": {
            "text/plain": [
              "array([5, 0, 4, ..., 5, 6, 8], dtype=uint8)"
            ]
          },
          "metadata": {
            "tags": []
          },
          "execution_count": 6
        }
      ]
    },
    {
      "cell_type": "code",
      "metadata": {
        "id": "SG0L5p4Dzp5D",
        "colab_type": "code",
        "outputId": "d1ff7553-d0b3-4aa4-bba1-66b772a3c288",
        "colab": {
          "base_uri": "https://localhost:8080/",
          "height": 34
        }
      },
      "source": [
        "test_images.shape"
      ],
      "execution_count": 7,
      "outputs": [
        {
          "output_type": "execute_result",
          "data": {
            "text/plain": [
              "(10000, 28, 28)"
            ]
          },
          "metadata": {
            "tags": []
          },
          "execution_count": 7
        }
      ]
    },
    {
      "cell_type": "code",
      "metadata": {
        "id": "MimOH_Xnzp5I",
        "colab_type": "code",
        "outputId": "6da0b7fc-0aa4-4def-a42f-3be2263f9b66",
        "colab": {
          "base_uri": "https://localhost:8080/",
          "height": 34
        }
      },
      "source": [
        "len(test_labels)"
      ],
      "execution_count": 8,
      "outputs": [
        {
          "output_type": "execute_result",
          "data": {
            "text/plain": [
              "10000"
            ]
          },
          "metadata": {
            "tags": []
          },
          "execution_count": 8
        }
      ]
    },
    {
      "cell_type": "code",
      "metadata": {
        "id": "8EHR0v0Bzp5M",
        "colab_type": "code",
        "outputId": "571c5e1b-ea6a-4257-e77b-176c82ae9486",
        "colab": {
          "base_uri": "https://localhost:8080/",
          "height": 34
        }
      },
      "source": [
        "test_labels"
      ],
      "execution_count": 9,
      "outputs": [
        {
          "output_type": "execute_result",
          "data": {
            "text/plain": [
              "array([7, 2, 1, ..., 4, 5, 6], dtype=uint8)"
            ]
          },
          "metadata": {
            "tags": []
          },
          "execution_count": 9
        }
      ]
    },
    {
      "cell_type": "markdown",
      "metadata": {
        "id": "s0Tp6nDRzp5R",
        "colab_type": "text"
      },
      "source": [
        "Let's build the network"
      ]
    },
    {
      "cell_type": "markdown",
      "metadata": {
        "id": "WxbJXg2Czp5T",
        "colab_type": "text"
      },
      "source": [
        "# The network architecture"
      ]
    },
    {
      "cell_type": "markdown",
      "metadata": {
        "id": "kGCxNrDdzp5U",
        "colab_type": "text"
      },
      "source": [
        "- The core building block of neural networks is the **layer**, a data-processing module that you can think of as a filter for data.\n",
        "    - Some data goes in, and it comes out in a more useful form.\n",
        "    - Layers extract **representations** (hopefully, meaningful for the data problem at hand) out of the data fed into them.\n",
        "    \n",
        "- Most of deep learning consists of chaining together simple layers that will implement a form of progressive **data distillation**.\n",
        "- A deep learning model is like a sieve for data-processing, made of a succession of increasingly refined data filters--**the layers**."
      ]
    },
    {
      "cell_type": "code",
      "metadata": {
        "id": "uyUqGjPTzp5V",
        "colab_type": "code",
        "colab": {}
      },
      "source": [
        "from keras import models\n",
        "from keras import layers"
      ],
      "execution_count": 0,
      "outputs": []
    },
    {
      "cell_type": "code",
      "metadata": {
        "id": "NEVk0S9_zp5a",
        "colab_type": "code",
        "colab": {
          "base_uri": "https://localhost:8080/",
          "height": 139
        },
        "outputId": "fd036ec5-089e-4a9c-d639-60bfd2915f08"
      },
      "source": [
        "network = models.Sequential()\n",
        "# Dense(512) is a fully-connected layer with 512 hidden units.\n",
        "# in the first layer, you must specify the expected input data shape :\n",
        "# here, 28 X 28=784 -dimensional vectors.\n",
        "network.add(layers.Dense(512, activation='relu', input_shape=(28 * 28, )))\n",
        "network.add(layers.Dense(10, activation='softmax'))"
      ],
      "execution_count": 12,
      "outputs": [
        {
          "output_type": "stream",
          "text": [
            "WARNING:tensorflow:From /usr/local/lib/python3.6/dist-packages/keras/backend/tensorflow_backend.py:66: The name tf.get_default_graph is deprecated. Please use tf.compat.v1.get_default_graph instead.\n",
            "\n",
            "WARNING:tensorflow:From /usr/local/lib/python3.6/dist-packages/keras/backend/tensorflow_backend.py:541: The name tf.placeholder is deprecated. Please use tf.compat.v1.placeholder instead.\n",
            "\n",
            "WARNING:tensorflow:From /usr/local/lib/python3.6/dist-packages/keras/backend/tensorflow_backend.py:4432: The name tf.random_uniform is deprecated. Please use tf.random.uniform instead.\n",
            "\n"
          ],
          "name": "stdout"
        }
      ]
    },
    {
      "cell_type": "markdown",
      "metadata": {
        "id": "Af2c2tvKzp5f",
        "colab_type": "text"
      },
      "source": [
        "- Our network consists of a sequence of two *Dense* layers, which are densely connected (also called *fully connected*) neural layers.\n",
        "- The second (and last) layer is a **10-way** *softmax* layer, which means it will return an array of **10** probability scores. Each score will be the probability that the current digit image belongs to one of our 10 digit classes. "
      ]
    },
    {
      "cell_type": "markdown",
      "metadata": {
        "id": "NHbqJ-rWzp5g",
        "colab_type": "text"
      },
      "source": [
        "# The compilation step"
      ]
    },
    {
      "cell_type": "markdown",
      "metadata": {
        "id": "1w0ne5wYzp5h",
        "colab_type": "text"
      },
      "source": [
        "- To make the network ready for training, we need to pick three more things, as part of the **compilation** step:\n",
        " - **A loss function**-- How the network will be able to measure its performance on the training data, and thus how it will be able to steer itself in the right direction.\n",
        " - **An optimizer**--The mechanism through which the network will update itself based on the data it sees and its loss function.\n",
        " - **Metrics to monitor during training and testing**--Here, we will only care about accuracy (the fraction of the images that were correctly classified)."
      ]
    },
    {
      "cell_type": "code",
      "metadata": {
        "id": "uvSO-q9Ozp5i",
        "colab_type": "code",
        "colab": {
          "base_uri": "https://localhost:8080/",
          "height": 105
        },
        "outputId": "34a0b9ee-47d1-4b9a-d5db-47cf82270a48"
      },
      "source": [
        "network.compile(optimizer='rmsprop',\n",
        "                loss='categorical_crossentropy',\n",
        "                metrics=['accuracy'])\n",
        "    "
      ],
      "execution_count": 13,
      "outputs": [
        {
          "output_type": "stream",
          "text": [
            "WARNING:tensorflow:From /usr/local/lib/python3.6/dist-packages/keras/optimizers.py:793: The name tf.train.Optimizer is deprecated. Please use tf.compat.v1.train.Optimizer instead.\n",
            "\n",
            "WARNING:tensorflow:From /usr/local/lib/python3.6/dist-packages/keras/backend/tensorflow_backend.py:3576: The name tf.log is deprecated. Please use tf.math.log instead.\n",
            "\n"
          ],
          "name": "stdout"
        }
      ]
    },
    {
      "cell_type": "markdown",
      "metadata": {
        "id": "fLHJqTLXzp5o",
        "colab_type": "text"
      },
      "source": [
        "# Preparing the image data"
      ]
    },
    {
      "cell_type": "markdown",
      "metadata": {
        "id": "ajWKVl1-zp5q",
        "colab_type": "text"
      },
      "source": [
        "Before training, we will preprocess the data by reshaping it into the shape the network expects and scaling it so that all values are in the $[0-1]$ interval."
      ]
    },
    {
      "cell_type": "code",
      "metadata": {
        "id": "4vMdz75Wzp5s",
        "colab_type": "code",
        "colab": {}
      },
      "source": [
        "train_images = train_images.reshape((60000, 28 * 28))\n",
        "train_images = train_images.astype('float32') / 255."
      ],
      "execution_count": 0,
      "outputs": []
    },
    {
      "cell_type": "code",
      "metadata": {
        "id": "4icW7vDgzp5w",
        "colab_type": "code",
        "colab": {}
      },
      "source": [
        "test_images = test_images.reshape((10000, 28 * 28))\n",
        "test_images = test_images.astype('float32') / 255."
      ],
      "execution_count": 0,
      "outputs": []
    },
    {
      "cell_type": "markdown",
      "metadata": {
        "id": "0SHD8Vvhzp5z",
        "colab_type": "text"
      },
      "source": [
        "# Preparing the labels"
      ]
    },
    {
      "cell_type": "markdown",
      "metadata": {
        "id": "JA1YmuF1zp51",
        "colab_type": "text"
      },
      "source": [
        "We also need to categorically encode the labels."
      ]
    },
    {
      "cell_type": "code",
      "metadata": {
        "id": "Bh42ABtgzp58",
        "colab_type": "code",
        "colab": {}
      },
      "source": [
        "from keras.utils import to_categorical"
      ],
      "execution_count": 0,
      "outputs": []
    },
    {
      "cell_type": "code",
      "metadata": {
        "id": "3eCqlapJzp6A",
        "colab_type": "code",
        "outputId": "fb8df8b4-b666-43ea-b7b5-d4db3f53c012",
        "colab": {
          "base_uri": "https://localhost:8080/",
          "height": 136
        }
      },
      "source": [
        "train_labels = to_categorical(train_labels)\n",
        "train_labels"
      ],
      "execution_count": 18,
      "outputs": [
        {
          "output_type": "execute_result",
          "data": {
            "text/plain": [
              "array([[0., 0., 0., ..., 0., 0., 0.],\n",
              "       [1., 0., 0., ..., 0., 0., 0.],\n",
              "       [0., 0., 0., ..., 0., 0., 0.],\n",
              "       ...,\n",
              "       [0., 0., 0., ..., 0., 0., 0.],\n",
              "       [0., 0., 0., ..., 0., 0., 0.],\n",
              "       [0., 0., 0., ..., 0., 1., 0.]], dtype=float32)"
            ]
          },
          "metadata": {
            "tags": []
          },
          "execution_count": 18
        }
      ]
    },
    {
      "cell_type": "code",
      "metadata": {
        "id": "wWXDQKNBzp6E",
        "colab_type": "code",
        "outputId": "aa52fc3b-75f4-4e67-b8c4-39095f6b6268",
        "colab": {
          "base_uri": "https://localhost:8080/",
          "height": 136
        }
      },
      "source": [
        "test_labels = to_categorical(test_labels)\n",
        "test_labels"
      ],
      "execution_count": 19,
      "outputs": [
        {
          "output_type": "execute_result",
          "data": {
            "text/plain": [
              "array([[0., 0., 0., ..., 1., 0., 0.],\n",
              "       [0., 0., 1., ..., 0., 0., 0.],\n",
              "       [0., 1., 0., ..., 0., 0., 0.],\n",
              "       ...,\n",
              "       [0., 0., 0., ..., 0., 0., 0.],\n",
              "       [0., 0., 0., ..., 0., 0., 0.],\n",
              "       [0., 0., 0., ..., 0., 0., 0.]], dtype=float32)"
            ]
          },
          "metadata": {
            "tags": []
          },
          "execution_count": 19
        }
      ]
    },
    {
      "cell_type": "markdown",
      "metadata": {
        "id": "csJ7yQVxzp6I",
        "colab_type": "text"
      },
      "source": [
        "# Training and Testing"
      ]
    },
    {
      "cell_type": "markdown",
      "metadata": {
        "id": "P-KLV-VIzp6K",
        "colab_type": "text"
      },
      "source": [
        "We are now ready to train the network, which in Keras is done via a call to the network's fit method--we fit the model to its training data:"
      ]
    },
    {
      "cell_type": "code",
      "metadata": {
        "id": "sGWa7zXYzp6O",
        "colab_type": "code",
        "outputId": "89af7bcf-9051-48e0-dab1-4e57b8cc9511",
        "colab": {
          "base_uri": "https://localhost:8080/",
          "height": 1000
        }
      },
      "source": [
        "network.fit(train_images, train_labels, epochs=70, batch_size=130)"
      ],
      "execution_count": 28,
      "outputs": [
        {
          "output_type": "stream",
          "text": [
            "Epoch 1/70\n",
            "60000/60000 [==============================] - 5s 80us/step - loss: 2.6876e-04 - acc: 1.0000\n",
            "Epoch 2/70\n",
            "60000/60000 [==============================] - 5s 83us/step - loss: 2.6876e-04 - acc: 1.0000\n",
            "Epoch 3/70\n",
            "60000/60000 [==============================] - 5s 79us/step - loss: 2.6876e-04 - acc: 1.0000\n",
            "Epoch 4/70\n",
            "60000/60000 [==============================] - 5s 76us/step - loss: 2.6876e-04 - acc: 1.0000\n",
            "Epoch 5/70\n",
            "60000/60000 [==============================] - 5s 78us/step - loss: 2.6876e-04 - acc: 1.0000\n",
            "Epoch 6/70\n",
            "60000/60000 [==============================] - 5s 78us/step - loss: 2.6876e-04 - acc: 1.0000\n",
            "Epoch 7/70\n",
            "60000/60000 [==============================] - 5s 78us/step - loss: 2.6876e-04 - acc: 1.0000\n",
            "Epoch 8/70\n",
            "60000/60000 [==============================] - 5s 79us/step - loss: 2.6876e-04 - acc: 1.0000\n",
            "Epoch 9/70\n",
            "60000/60000 [==============================] - 5s 81us/step - loss: 2.6876e-04 - acc: 1.0000\n",
            "Epoch 10/70\n",
            "60000/60000 [==============================] - 5s 81us/step - loss: 2.6876e-04 - acc: 1.0000\n",
            "Epoch 11/70\n",
            "60000/60000 [==============================] - 5s 81us/step - loss: 2.6876e-04 - acc: 1.0000\n",
            "Epoch 12/70\n",
            "60000/60000 [==============================] - 5s 81us/step - loss: 2.6876e-04 - acc: 1.0000\n",
            "Epoch 13/70\n",
            "60000/60000 [==============================] - 5s 79us/step - loss: 2.6876e-04 - acc: 1.0000\n",
            "Epoch 14/70\n",
            "60000/60000 [==============================] - 5s 80us/step - loss: 2.6876e-04 - acc: 1.0000\n",
            "Epoch 15/70\n",
            "60000/60000 [==============================] - 5s 82us/step - loss: 2.6876e-04 - acc: 1.0000\n",
            "Epoch 16/70\n",
            "60000/60000 [==============================] - 5s 78us/step - loss: 2.6876e-04 - acc: 1.0000\n",
            "Epoch 17/70\n",
            "60000/60000 [==============================] - 5s 79us/step - loss: 2.6876e-04 - acc: 1.0000\n",
            "Epoch 18/70\n",
            "60000/60000 [==============================] - 5s 79us/step - loss: 2.6876e-04 - acc: 1.0000\n",
            "Epoch 19/70\n",
            "60000/60000 [==============================] - 5s 81us/step - loss: 2.6876e-04 - acc: 1.0000\n",
            "Epoch 20/70\n",
            "60000/60000 [==============================] - 5s 80us/step - loss: 2.6876e-04 - acc: 1.0000\n",
            "Epoch 21/70\n",
            "60000/60000 [==============================] - 5s 82us/step - loss: 2.6876e-04 - acc: 1.0000\n",
            "Epoch 22/70\n",
            "60000/60000 [==============================] - 5s 81us/step - loss: 2.6876e-04 - acc: 1.0000\n",
            "Epoch 23/70\n",
            "60000/60000 [==============================] - 5s 81us/step - loss: 2.6876e-04 - acc: 1.0000\n",
            "Epoch 24/70\n",
            "60000/60000 [==============================] - 5s 80us/step - loss: 2.6876e-04 - acc: 1.0000\n",
            "Epoch 25/70\n",
            "60000/60000 [==============================] - 5s 79us/step - loss: 2.6876e-04 - acc: 1.0000\n",
            "Epoch 26/70\n",
            "60000/60000 [==============================] - 5s 79us/step - loss: 2.6876e-04 - acc: 1.0000\n",
            "Epoch 27/70\n",
            "60000/60000 [==============================] - 5s 81us/step - loss: 2.6876e-04 - acc: 1.0000\n",
            "Epoch 28/70\n",
            "60000/60000 [==============================] - 5s 81us/step - loss: 2.6876e-04 - acc: 1.0000\n",
            "Epoch 29/70\n",
            "60000/60000 [==============================] - 5s 78us/step - loss: 2.6876e-04 - acc: 1.0000\n",
            "Epoch 30/70\n",
            "60000/60000 [==============================] - 5s 79us/step - loss: 2.6876e-04 - acc: 1.0000\n",
            "Epoch 31/70\n",
            "60000/60000 [==============================] - 5s 78us/step - loss: 2.6876e-04 - acc: 1.0000\n",
            "Epoch 32/70\n",
            "60000/60000 [==============================] - 5s 79us/step - loss: 2.6876e-04 - acc: 1.0000\n",
            "Epoch 33/70\n",
            "60000/60000 [==============================] - 5s 78us/step - loss: 2.6876e-04 - acc: 1.0000\n",
            "Epoch 34/70\n",
            "60000/60000 [==============================] - 5s 77us/step - loss: 2.6876e-04 - acc: 1.0000\n",
            "Epoch 35/70\n",
            "60000/60000 [==============================] - 5s 77us/step - loss: 2.6875e-04 - acc: 1.0000\n",
            "Epoch 36/70\n",
            "60000/60000 [==============================] - 5s 76us/step - loss: 2.6875e-04 - acc: 1.0000\n",
            "Epoch 37/70\n",
            "60000/60000 [==============================] - 5s 78us/step - loss: 2.6875e-04 - acc: 1.0000\n",
            "Epoch 38/70\n",
            "60000/60000 [==============================] - 5s 75us/step - loss: 2.6875e-04 - acc: 1.0000\n",
            "Epoch 39/70\n",
            "60000/60000 [==============================] - 5s 77us/step - loss: 2.6875e-04 - acc: 1.0000\n",
            "Epoch 40/70\n",
            "60000/60000 [==============================] - 5s 80us/step - loss: 2.6875e-04 - acc: 1.0000\n",
            "Epoch 41/70\n",
            "60000/60000 [==============================] - 5s 78us/step - loss: 2.6875e-04 - acc: 1.0000\n",
            "Epoch 42/70\n",
            "60000/60000 [==============================] - 5s 76us/step - loss: 2.6875e-04 - acc: 1.0000\n",
            "Epoch 43/70\n",
            "60000/60000 [==============================] - 5s 80us/step - loss: 2.6875e-04 - acc: 1.0000\n",
            "Epoch 44/70\n",
            "60000/60000 [==============================] - 5s 80us/step - loss: 2.6875e-04 - acc: 1.0000\n",
            "Epoch 45/70\n",
            "60000/60000 [==============================] - 5s 79us/step - loss: 2.6875e-04 - acc: 1.0000\n",
            "Epoch 46/70\n",
            "60000/60000 [==============================] - 5s 82us/step - loss: 2.6875e-04 - acc: 1.0000\n",
            "Epoch 47/70\n",
            "60000/60000 [==============================] - 5s 80us/step - loss: 2.6875e-04 - acc: 1.0000\n",
            "Epoch 48/70\n",
            "60000/60000 [==============================] - 5s 80us/step - loss: 2.6875e-04 - acc: 1.0000\n",
            "Epoch 49/70\n",
            "60000/60000 [==============================] - 5s 80us/step - loss: 2.6875e-04 - acc: 1.0000\n",
            "Epoch 50/70\n",
            "60000/60000 [==============================] - 5s 80us/step - loss: 2.6875e-04 - acc: 1.0000\n",
            "Epoch 51/70\n",
            "60000/60000 [==============================] - 5s 75us/step - loss: 2.6875e-04 - acc: 1.0000\n",
            "Epoch 52/70\n",
            "60000/60000 [==============================] - 5s 77us/step - loss: 2.6875e-04 - acc: 1.0000\n",
            "Epoch 53/70\n",
            "60000/60000 [==============================] - 5s 77us/step - loss: 2.6875e-04 - acc: 1.0000\n",
            "Epoch 54/70\n",
            "60000/60000 [==============================] - 5s 76us/step - loss: 2.6875e-04 - acc: 1.0000\n",
            "Epoch 55/70\n",
            "60000/60000 [==============================] - 5s 77us/step - loss: 2.6875e-04 - acc: 1.0000\n",
            "Epoch 56/70\n",
            "60000/60000 [==============================] - 5s 77us/step - loss: 2.6875e-04 - acc: 1.0000\n",
            "Epoch 57/70\n",
            "60000/60000 [==============================] - 5s 78us/step - loss: 2.6875e-04 - acc: 1.0000\n",
            "Epoch 58/70\n",
            "60000/60000 [==============================] - 5s 76us/step - loss: 2.6875e-04 - acc: 1.0000\n",
            "Epoch 59/70\n",
            "60000/60000 [==============================] - 5s 78us/step - loss: 2.6875e-04 - acc: 1.0000\n",
            "Epoch 60/70\n",
            "60000/60000 [==============================] - 5s 77us/step - loss: 2.6875e-04 - acc: 1.0000\n",
            "Epoch 61/70\n",
            "60000/60000 [==============================] - 5s 78us/step - loss: 2.6875e-04 - acc: 1.0000\n",
            "Epoch 62/70\n",
            "60000/60000 [==============================] - 5s 78us/step - loss: 2.6875e-04 - acc: 1.0000\n",
            "Epoch 63/70\n",
            "60000/60000 [==============================] - 5s 78us/step - loss: 2.6875e-04 - acc: 1.0000\n",
            "Epoch 64/70\n",
            "60000/60000 [==============================] - 5s 78us/step - loss: 2.6875e-04 - acc: 1.0000\n",
            "Epoch 65/70\n",
            "60000/60000 [==============================] - 5s 82us/step - loss: 2.6875e-04 - acc: 1.0000\n",
            "Epoch 66/70\n",
            "60000/60000 [==============================] - 5s 80us/step - loss: 2.6875e-04 - acc: 1.0000\n",
            "Epoch 67/70\n",
            "60000/60000 [==============================] - 5s 79us/step - loss: 2.6875e-04 - acc: 1.0000\n",
            "Epoch 68/70\n",
            "60000/60000 [==============================] - 5s 77us/step - loss: 2.6875e-04 - acc: 1.0000\n",
            "Epoch 69/70\n",
            "60000/60000 [==============================] - 5s 78us/step - loss: 2.6875e-04 - acc: 1.0000\n",
            "Epoch 70/70\n",
            "60000/60000 [==============================] - 5s 77us/step - loss: 2.6875e-04 - acc: 1.0000\n"
          ],
          "name": "stdout"
        },
        {
          "output_type": "execute_result",
          "data": {
            "text/plain": [
              "<keras.callbacks.History at 0x7fe91b768da0>"
            ]
          },
          "metadata": {
            "tags": []
          },
          "execution_count": 28
        }
      ]
    },
    {
      "cell_type": "markdown",
      "metadata": {
        "id": "heVasO26zp6V",
        "colab_type": "text"
      },
      "source": [
        "- Two quantities are displayed during training:\n",
        "    - The loss of the network over the training data\n",
        "    - The accuracy of the network over the training data\n",
        "    \n",
        "- We quickly reach an accuracy of **$0.9886 (98.86\\%)$** on the training data."
      ]
    },
    {
      "cell_type": "markdown",
      "metadata": {
        "id": "0eDaNGAYzp6X",
        "colab_type": "text"
      },
      "source": [
        "- Now let's check that the model performs well on the test set, too:"
      ]
    },
    {
      "cell_type": "code",
      "metadata": {
        "id": "2-UhmyTWzp6Y",
        "colab_type": "code",
        "outputId": "2c66f8b5-f7ed-427b-9207-5212ea79454c",
        "colab": {
          "base_uri": "https://localhost:8080/",
          "height": 34
        }
      },
      "source": [
        "test_loss, test_acc = network.evaluate(test_images, test_labels)"
      ],
      "execution_count": 29,
      "outputs": [
        {
          "output_type": "stream",
          "text": [
            "10000/10000 [==============================] - 1s 57us/step\n"
          ],
          "name": "stdout"
        }
      ]
    },
    {
      "cell_type": "code",
      "metadata": {
        "id": "omz-cZXLzp6d",
        "colab_type": "code",
        "outputId": "c0a2e244-d7c7-4fd5-812c-efc2cb0addee",
        "colab": {
          "base_uri": "https://localhost:8080/",
          "height": 34
        }
      },
      "source": [
        "print('Test Accuracy: {:.5f} '.format(test_acc))"
      ],
      "execution_count": 30,
      "outputs": [
        {
          "output_type": "stream",
          "text": [
            "Test Accuracy: 0.98360 \n"
          ],
          "name": "stdout"
        }
      ]
    },
    {
      "cell_type": "code",
      "metadata": {
        "id": "cbIp64KFzp6g",
        "colab_type": "code",
        "outputId": "0ef4e272-a5f6-4647-f609-da48a438f7f8",
        "colab": {
          "base_uri": "https://localhost:8080/",
          "height": 34
        }
      },
      "source": [
        "test_acc"
      ],
      "execution_count": 31,
      "outputs": [
        {
          "output_type": "execute_result",
          "data": {
            "text/plain": [
              "0.9836"
            ]
          },
          "metadata": {
            "tags": []
          },
          "execution_count": 31
        }
      ]
    },
    {
      "cell_type": "markdown",
      "metadata": {
        "id": "yi5jDr-0zp6k",
        "colab_type": "text"
      },
      "source": [
        "- The test-set accuracy turns out to be $97.780\\%$--that is quite a bit lower than the training set accuracy. This gap between training and test accuracy is an example of **overfitting**:the fact that the ML models tend to perform worse on new data than on their training data."
      ]
    },
    {
      "cell_type": "code",
      "metadata": {
        "id": "JOu1IQW6zp6l",
        "colab_type": "code",
        "outputId": "2a851766-8b49-4854-8ef8-f021cc75aee4",
        "colab": {}
      },
      "source": [
        "%load_ext version_information\n",
        "%version_information keras, numpy"
      ],
      "execution_count": 0,
      "outputs": [
        {
          "output_type": "execute_result",
          "data": {
            "application/json": {
              "Software versions": [
                {
                  "module": "Python",
                  "version": "3.6.3 64bit [GCC 4.8.2 20140120 (Red Hat 4.8.2-15)]"
                },
                {
                  "module": "IPython",
                  "version": "6.2.1"
                },
                {
                  "module": "OS",
                  "version": "Linux 4.4.0 53 generic x86_64 with debian stretch sid"
                },
                {
                  "module": "keras",
                  "version": "2.0.9"
                },
                {
                  "module": "numpy",
                  "version": "1.12.1"
                }
              ]
            },
            "text/html": [
              "<table><tr><th>Software</th><th>Version</th></tr><tr><td>Python</td><td>3.6.3 64bit [GCC 4.8.2 20140120 (Red Hat 4.8.2-15)]</td></tr><tr><td>IPython</td><td>6.2.1</td></tr><tr><td>OS</td><td>Linux 4.4.0 53 generic x86_64 with debian stretch sid</td></tr><tr><td>keras</td><td>2.0.9</td></tr><tr><td>numpy</td><td>1.12.1</td></tr><tr><td colspan='2'>Fri Dec 15 19:42:45 2017 CST</td></tr></table>"
            ],
            "text/latex": "\\begin{tabular}{|l|l|}\\hline\n{\\bf Software} & {\\bf Version} \\\\ \\hline\\hline\nPython & 3.6.3 64bit [GCC 4.8.2 20140120 (Red Hat 4.8.2-15)] \\\\ \\hline\nIPython & 6.2.1 \\\\ \\hline\nOS & Linux 4.4.0 53 generic x86\\_64 with debian stretch sid \\\\ \\hline\nkeras & 2.0.9 \\\\ \\hline\nnumpy & 1.12.1 \\\\ \\hline\n\\hline \\multicolumn{2}{|l|}{Fri Dec 15 19:42:45 2017 CST} \\\\ \\hline\n\\end{tabular}\n",
            "text/plain": [
              "Software versions\n",
              "Python 3.6.3 64bit [GCC 4.8.2 20140120 (Red Hat 4.8.2-15)]\n",
              "IPython 6.2.1\n",
              "OS Linux 4.4.0 53 generic x86_64 with debian stretch sid\n",
              "keras 2.0.9\n",
              "numpy 1.12.1\n",
              "Fri Dec 15 19:42:45 2017 CST"
            ]
          },
          "metadata": {
            "tags": []
          },
          "execution_count": 21
        }
      ]
    }
  ]
}